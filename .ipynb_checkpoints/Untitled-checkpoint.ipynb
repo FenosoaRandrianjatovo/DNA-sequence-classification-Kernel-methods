{
 "cells": [
  {
   "cell_type": "code",
   "execution_count": 1,
   "id": "b8b89812",
   "metadata": {},
   "outputs": [],
   "source": [
    "import models"
   ]
  },
  {
   "cell_type": "code",
   "execution_count": null,
   "id": "95f06678",
   "metadata": {},
   "outputs": [
    {
     "name": "stdout",
     "output_type": "stream",
     "text": [
      "******************** Loading the Data ********************\n",
      "\n",
      "==================== Creating of Embedding of Kmer size of 10 ====================\n",
      "100%|██████████████████████████████████████| 3000/3000 [00:13<00:00, 224.06it/s]\n",
      "==================== embedding of Kmer size of 10 Created ====================\n",
      "Splitiing the Data for Cross validation\n",
      " \n",
      "\n",
      "******************** Fitting the model ********************\n",
      "\n",
      "******************** Make prediction  ********************\n",
      "\n",
      "==================== Creating of Embedding of Kmer size of 10 ====================\n",
      "100%|██████████████████████████████████████| 3000/3000 [00:15<00:00, 187.77it/s]\n",
      "==================== embedding of Kmer size of 10 Created ====================\n"
     ]
    }
   ],
   "source": [
    "!python main.py"
   ]
  },
  {
   "cell_type": "code",
   "execution_count": null,
   "id": "3aab8982",
   "metadata": {},
   "outputs": [],
   "source": []
  }
 ],
 "metadata": {
  "kernelspec": {
   "display_name": "Python 3 (ipykernel)",
   "language": "python",
   "name": "python3"
  },
  "language_info": {
   "codemirror_mode": {
    "name": "ipython",
    "version": 3
   },
   "file_extension": ".py",
   "mimetype": "text/x-python",
   "name": "python",
   "nbconvert_exporter": "python",
   "pygments_lexer": "ipython3",
   "version": "3.9.7"
  }
 },
 "nbformat": 4,
 "nbformat_minor": 5
}
